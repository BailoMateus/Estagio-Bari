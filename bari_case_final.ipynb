{
 "cells": [
  {
   "cell_type": "code",
   "execution_count": 34,
   "id": "8068f128",
   "metadata": {},
   "outputs": [],
   "source": [
    "# Bari - Desafio de Estágio\n",
    "# Mateus Luiz Bailo - Email: mateus_bailo@hotmail.com\n",
    "\n",
    "# -------------------------------\n",
    "# 1. Carregamento de Bibliotecas\n",
    "# -------------------------------\n",
    "import pandas as pd\n",
    "import numpy as np\n",
    "import matplotlib.pyplot as plt\n",
    "import seaborn as sns\n",
    "import os\n",
    "from sklearn.model_selection import train_test_split\n",
    "from sklearn.preprocessing import StandardScaler\n",
    "from sklearn.ensemble import RandomForestClassifier\n",
    "from sklearn.linear_model import LogisticRegression\n",
    "from sklearn.metrics import classification_report, confusion_matrix, roc_auc_score, roc_curve\n",
    "from sqlalchemy import create_engine\n",
    "from dotenv import load_dotenv\n"
   ]
  },
  {
   "cell_type": "code",
   "execution_count": 50,
   "id": "e1875301",
   "metadata": {},
   "outputs": [],
   "source": [
    "# --------------------------\n",
    "# 2. Conexão com o Banco de Dados MySQL\n",
    "# --------------------------\n",
    "\n",
    "load_dotenv()\n",
    "\n",
    "usuario = os.getenv(\"DB_USER\")\n",
    "senha = os.getenv(\"DB_PASSWORD\").replace(\"@\", \"%40\")\n",
    "host = os.getenv(\"DB_HOST\")\n",
    "porta = os.getenv(\"DB_PORT\")\n",
    "banco = os.getenv(\"DB_NAME\")\n",
    "\n",
    "\n",
    "\n",
    "conexao = create_engine(f\"mysql+mysqlconnector://{usuario}:{senha}@{host}:{porta}/{banco}\")"
   ]
  },
  {
   "cell_type": "code",
   "execution_count": null,
   "id": "7bd4ce26",
   "metadata": {},
   "outputs": [
    {
     "name": "stdout",
     "output_type": "stream",
     "text": [
      "   id_cliente  Idade  RendaMensal  ScoreCredito  ValorImovel  ContratoMeses  \\\n",
      "0           1     59     13921.40           548    463771.95            360   \n",
      "1           2     49      6939.90           825    444990.02            360   \n",
      "2           3     35      7116.43           761    489861.78            300   \n",
      "3           4     63      2933.34           312    263163.69            300   \n",
      "4           5     28      9427.98           683    419948.53            120   \n",
      "\n",
      "   ValorFinanciado  Inadimplente  \n",
      "0        255471.75             0  \n",
      "1        194613.60             0  \n",
      "2        305831.89             0  \n",
      "3        173892.50             1  \n",
      "4        307163.49             0  \n"
     ]
    }
   ],
   "source": [
    "# --------------------------\n",
    "# 3. Consulta SQL: Carregamento dos Dados\n",
    "# --------------------------\n",
    "\n",
    "query = \"\"\"\n",
    "    SELECT id_cliente as IdCliente\n",
    "          ,idade AS Idade\n",
    "          ,renda_mensal as RendaMensal\n",
    "          ,score_credito as ScoreCredito\n",
    "          ,valor_imovel as ValorImovel\n",
    "          ,prazo_contrato_meses as ContratoMeses\n",
    "          ,valor_financiado as ValorFinanciado\n",
    "          ,inadimplente as Inadimplente\n",
    "    FROM clientes_credito limit 10\n",
    "\"\"\"\n",
    "\n",
    "df_sql = pd.read_sql(query, conexao)\n",
    "print(df_sql.head())"
   ]
  },
  {
   "cell_type": "code",
   "execution_count": 51,
   "id": "1aecf58e",
   "metadata": {},
   "outputs": [
    {
     "name": "stdout",
     "output_type": "stream",
     "text": [
      "<class 'pandas.core.frame.DataFrame'>\n",
      "RangeIndex: 10 entries, 0 to 9\n",
      "Data columns (total 8 columns):\n",
      " #   Column                Non-Null Count  Dtype  \n",
      "---  ------                --------------  -----  \n",
      " 0   id_cliente            10 non-null     int64  \n",
      " 1   idade                 10 non-null     int64  \n",
      " 2   renda_mensal          10 non-null     float64\n",
      " 3   score_credito         10 non-null     int64  \n",
      " 4   valor_imovel          10 non-null     float64\n",
      " 5   prazo_contrato_meses  10 non-null     int64  \n",
      " 6   valor_financiado      10 non-null     float64\n",
      " 7   inadimplente          10 non-null     int64  \n",
      "dtypes: float64(3), int64(5)\n",
      "memory usage: 772.0 bytes\n",
      "None\n",
      "       id_cliente      idade  renda_mensal  score_credito   valor_imovel  \\\n",
      "count    10.00000  10.000000     10.000000      10.000000      10.000000   \n",
      "mean      5.50000  44.700000   7938.313000     628.900000  400565.019000   \n",
      "std       3.02765  12.347289   3113.855269     182.932562   70663.988518   \n",
      "min       1.00000  28.000000   2933.340000     312.000000  263163.690000   \n",
      "25%       3.25000  36.000000   6679.365000     570.000000  363373.380000   \n",
      "50%       5.50000  42.000000   7455.900000     690.500000  413919.405000   \n",
      "75%       7.75000  56.500000   9305.517500     750.250000  450284.090000   \n",
      "max      10.00000  63.000000  13921.400000     825.000000  489861.780000   \n",
      "\n",
      "       prazo_contrato_meses  valor_financiado  inadimplente  \n",
      "count             10.000000         10.000000     10.000000  \n",
      "mean             264.000000     257436.512000      0.200000  \n",
      "std               80.993827      61457.699277      0.421637  \n",
      "min              120.000000     173892.500000      0.000000  \n",
      "25%              195.000000     198642.850000      0.000000  \n",
      "50%              300.000000     267510.445000      0.000000  \n",
      "75%              300.000000     306830.590000      0.000000  \n",
      "max              360.000000     335005.830000      1.000000  \n",
      "id_cliente              0\n",
      "idade                   0\n",
      "renda_mensal            0\n",
      "score_credito           0\n",
      "valor_imovel            0\n",
      "prazo_contrato_meses    0\n",
      "valor_financiado        0\n",
      "inadimplente            0\n",
      "dtype: int64\n"
     ]
    }
   ],
   "source": [
    "# --------------------------\n",
    "# 4. Análise Exploratória\n",
    "# --------------------------\n",
    "\n",
    "print(df_sql.info())\n",
    "print(df_sql.describe())\n",
    "print(df_sql.isnull().sum())"
   ]
  },
  {
   "cell_type": "code",
   "execution_count": 57,
   "id": "5655c92b",
   "metadata": {},
   "outputs": [
    {
     "name": "stdout",
     "output_type": "stream",
     "text": [
      "Clientes com alto risco:\n",
      "   Idade  RendaMensal  ScoreCredito  Inadimplente\n",
      "0     63      2933.34           312             1\n",
      "1     22      8071.49           463             1\n",
      "2     36      4592.40           493             1\n",
      "3     28      3934.46           303             1\n",
      "4     67     12291.91           392             1\n"
     ]
    }
   ],
   "source": [
    "# --------------------------\n",
    "# 4. Análise Exploratória\n",
    "# --------------------------\n",
    "\n",
    "query_risco = \"\"\"\n",
    "SELECT idade as Idade\n",
    "      ,renda_mensal as RendaMensal\n",
    "      ,score_credito as ScoreCredito\n",
    "      ,inadimplente as Inadimplente\n",
    "FROM clientes_credito\n",
    "WHERE score_credito < 500 AND inadimplente = 1\n",
    "\"\"\"\n",
    "\n",
    "df_risco = pd.read_sql(query_risco, conexao)\n",
    "print(\"Clientes com alto risco:\")\n",
    "print(df_risco.head())"
   ]
  }
 ],
 "metadata": {
  "kernelspec": {
   "display_name": "Python 3",
   "language": "python",
   "name": "python3"
  },
  "language_info": {
   "codemirror_mode": {
    "name": "ipython",
    "version": 3
   },
   "file_extension": ".py",
   "mimetype": "text/x-python",
   "name": "python",
   "nbconvert_exporter": "python",
   "pygments_lexer": "ipython3",
   "version": "3.11.9"
  }
 },
 "nbformat": 4,
 "nbformat_minor": 5
}
