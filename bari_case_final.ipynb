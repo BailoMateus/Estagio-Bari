{
 "cells": [
  {
   "cell_type": "code",
   "execution_count": 2,
   "id": "8068f128",
   "metadata": {},
   "outputs": [],
   "source": [
    "# Bari - Desafio de Estágio\n",
    "# Mateus Luiz Bailo - Email: mateus_bailo@hotmail.com\n",
    "\n",
    "# -------------------------------\n",
    "# 1. Carregamento de Bibliotecas\n",
    "# -------------------------------\n",
    "import pandas as pd\n",
    "import numpy as np\n",
    "import matplotlib.pyplot as plt\n",
    "import seaborn as sns\n",
    "import os\n",
    "from sklearn.model_selection import train_test_split\n",
    "from sklearn.preprocessing import StandardScaler\n",
    "from sklearn.ensemble import RandomForestClassifier\n",
    "from sklearn.linear_model import LogisticRegression\n",
    "from sklearn.metrics import classification_report, confusion_matrix, roc_auc_score, roc_curve\n",
    "from sqlalchemy import create_engine\n",
    "from dotenv import load_dotenv\n"
   ]
  },
  {
   "cell_type": "code",
   "execution_count": 3,
   "id": "e1875301",
   "metadata": {},
   "outputs": [],
   "source": [
    "# --------------------------\n",
    "# 2. Conexão com o Banco de Dados MySQL\n",
    "# --------------------------\n",
    "\n",
    "load_dotenv()\n",
    "\n",
    "usuario = os.getenv(\"DB_USER\")\n",
    "senha = os.getenv(\"DB_PASSWORD\").replace(\"@\", \"%40\")\n",
    "host = os.getenv(\"DB_HOST\")\n",
    "porta = os.getenv(\"DB_PORT\")\n",
    "banco = os.getenv(\"DB_NAME\")\n",
    "\n",
    "\n",
    "\n",
    "conexao = create_engine(f\"mysql+mysqlconnector://{usuario}:{senha}@{host}:{porta}/{banco}\")"
   ]
  },
  {
   "cell_type": "code",
   "execution_count": 5,
   "id": "7bd4ce26",
   "metadata": {},
   "outputs": [
    {
     "name": "stdout",
     "output_type": "stream",
     "text": [
      "   IdCliente  Idade  RendaMensal  ScoreCredito  ValorImovel  ContratoMeses  \\\n",
      "0          1     59     13921.40           548    463771.95            360   \n",
      "1          2     49      6939.90           825    444990.02            360   \n",
      "2          3     35      7116.43           761    489861.78            300   \n",
      "3          4     63      2933.34           312    263163.69            300   \n",
      "4          5     28      9427.98           683    419948.53            120   \n",
      "\n",
      "   ValorFinanciado  Inadimplente  \n",
      "0        255471.75             0  \n",
      "1        194613.60             0  \n",
      "2        305831.89             0  \n",
      "3        173892.50             1  \n",
      "4        307163.49             0  \n"
     ]
    }
   ],
   "source": [
    "# --------------------------\n",
    "# 3. Consulta SQL: Carregamento dos Dados\n",
    "# --------------------------\n",
    "\n",
    "query = \"\"\"\n",
    "    SELECT id_cliente as IdCliente\n",
    "          ,idade AS Idade\n",
    "          ,renda_mensal as RendaMensal\n",
    "          ,score_credito as ScoreCredito\n",
    "          ,valor_imovel as ValorImovel\n",
    "          ,prazo_contrato_meses as ContratoMeses\n",
    "          ,valor_financiado as ValorFinanciado\n",
    "          ,inadimplente as Inadimplente\n",
    "    FROM clientes_credito \n",
    "\"\"\"\n",
    "\n",
    "df_sql = pd.read_sql(query, conexao)\n",
    "print(df_sql.head())"
   ]
  },
  {
   "cell_type": "code",
   "execution_count": 14,
   "id": "1aecf58e",
   "metadata": {},
   "outputs": [
    {
     "name": "stdout",
     "output_type": "stream",
     "text": [
      "-------------Informações sobre as variaveis-------------\n",
      "<class 'pandas.core.frame.DataFrame'>\n",
      "RangeIndex: 2000 entries, 0 to 1999\n",
      "Data columns (total 8 columns):\n",
      " #   Column           Non-Null Count  Dtype  \n",
      "---  ------           --------------  -----  \n",
      " 0   IdCliente        2000 non-null   int64  \n",
      " 1   Idade            2000 non-null   int64  \n",
      " 2   RendaMensal      2000 non-null   float64\n",
      " 3   ScoreCredito     2000 non-null   int64  \n",
      " 4   ValorImovel      2000 non-null   float64\n",
      " 5   ContratoMeses    2000 non-null   int64  \n",
      " 6   ValorFinanciado  2000 non-null   float64\n",
      " 7   Inadimplente     2000 non-null   int64  \n",
      "dtypes: float64(3), int64(5)\n",
      "memory usage: 125.1 KB\n",
      "None\n",
      "-------------Informações sobre a tabela-------------\n",
      "         IdCliente        Idade   RendaMensal  ScoreCredito    ValorImovel  \\\n",
      "count  2000.000000  2000.000000   2000.000000   2000.000000    2000.000000   \n",
      "mean   1000.500000    45.235000   8106.486620    575.658500  395943.821845   \n",
      "std     577.494589    14.044942   2557.428903    159.054475  101424.071322   \n",
      "min       1.000000    21.000000   2000.000000    300.000000  100000.000000   \n",
      "25%     500.750000    33.000000   6375.657500    437.750000  327705.327500   \n",
      "50%    1000.500000    46.000000   8168.715000    572.000000  395031.290000   \n",
      "75%    1500.250000    57.000000   9831.255000    719.000000  463826.547500   \n",
      "max    2000.000000    69.000000  16151.230000    849.000000  724013.910000   \n",
      "\n",
      "       ContratoMeses  ValorFinanciado  Inadimplente  \n",
      "count    2000.000000      2000.000000   2000.000000  \n",
      "mean      245.820000    218080.604055      0.121000  \n",
      "std        85.098463     80721.383826      0.326209  \n",
      "min       120.000000     30778.130000      0.000000  \n",
      "25%       180.000000    158570.232500      0.000000  \n",
      "50%       240.000000    209937.920000      0.000000  \n",
      "75%       300.000000    271681.687500      0.000000  \n",
      "max       360.000000    529245.920000      1.000000  \n",
      "-------------Quantidade de Null's-------------\n",
      "IdCliente          0\n",
      "Idade              0\n",
      "RendaMensal        0\n",
      "ScoreCredito       0\n",
      "ValorImovel        0\n",
      "ContratoMeses      0\n",
      "ValorFinanciado    0\n",
      "Inadimplente       0\n",
      "dtype: int64\n"
     ]
    }
   ],
   "source": [
    "# --------------------------\n",
    "# 4. Análise Exploratória\n",
    "# --------------------------\n",
    "print(\"-------------Informações sobre as variaveis-------------\")\n",
    "print(df_sql.info())\n",
    "print(\"-------------Informações sobre a tabela-------------\")\n",
    "print(df_sql.describe())\n",
    "print(\"-------------Quantidade de Null's-------------\")\n",
    "print(df_sql.isnull().sum())"
   ]
  },
  {
   "cell_type": "code",
   "execution_count": null,
   "id": "5655c92b",
   "metadata": {},
   "outputs": [
    {
     "name": "stdout",
     "output_type": "stream",
     "text": [
      "Clientes com alto risco:\n",
      "     IdCliente  Idade  RendaMensal  ScoreCredito  Inadimplente\n",
      "0            4     63      2933.34           312             1\n",
      "1           23     22      8071.49           463             1\n",
      "2           34     36      4592.40           493             1\n",
      "3           56     28      3934.46           303             1\n",
      "4           57     67     12291.91           392             1\n",
      "..         ...    ...          ...           ...           ...\n",
      "140       1920     31      9108.18           384             1\n",
      "141       1941     30      3993.31           448             1\n",
      "142       1946     53      8549.46           473             1\n",
      "143       1979     28      5039.24           372             1\n",
      "144       2000     33     10726.87           381             1\n",
      "\n",
      "[145 rows x 5 columns]\n"
     ]
    }
   ],
   "source": [
    "# --------------------------\n",
    "# 4. Análise Exploratória\n",
    "# --------------------------\n",
    "\n",
    "query_clientes_risco = \"\"\"\n",
    "SELECT id_cliente as IdCliente\n",
    "      ,idade as Idade\n",
    "      ,renda_mensal as RendaMensal\n",
    "      ,score_credito as ScoreCredito\n",
    "      ,inadimplente as Inadimplente\n",
    "FROM clientes_credito\n",
    "WHERE score_credito < 500 AND inadimplente = 1\n",
    "\"\"\"\n",
    "\n",
    "df_risco = pd.read_sql(query_clientes_risco, conexao)\n",
    "print(\"Clientes com alto risco:\")\n",
    "print(df_risco) # 145 Clientes de Risco"
   ]
  }
 ],
 "metadata": {
  "kernelspec": {
   "display_name": "Python 3",
   "language": "python",
   "name": "python3"
  },
  "language_info": {
   "codemirror_mode": {
    "name": "ipython",
    "version": 3
   },
   "file_extension": ".py",
   "mimetype": "text/x-python",
   "name": "python",
   "nbconvert_exporter": "python",
   "pygments_lexer": "ipython3",
   "version": "3.11.9"
  }
 },
 "nbformat": 4,
 "nbformat_minor": 5
}
